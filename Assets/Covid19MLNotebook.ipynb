{
 "cells": [
  {
   "cell_type": "markdown",
   "id": "retired-sarah",
   "metadata": {},
   "source": [
    "### Get a Role"
   ]
  },
  {
   "cell_type": "code",
   "execution_count": 4,
   "id": "dimensional-nudist",
   "metadata": {},
   "outputs": [
    {
     "name": "stdout",
     "output_type": "stream",
     "text": [
      "arn:aws:iam::930652504693:role/sagemaker-soln-fdml--us-east-1-nb-role\n",
      "using bucket fnandito-covid-analysis\n"
     ]
    }
   ],
   "source": [
    "# Dataset is from kaggle: https://www.kaggle.com/pranavraikokte/covid19-image-dataset. Upload it on your S3 bucket\n",
    "\n",
    "import sagemaker\n",
    "from sagemaker import get_execution_role\n",
    "import boto3\n",
    "import os\n",
    "import numpy\n",
    "import pandas as pd\n",
    "import matplotlib.pyplot as plt\n",
    "\n",
    "role = get_execution_role()\n",
    "print(role)\n",
    "\n",
    "# Fill your bucket name\n",
    "sess = sagemaker.Session()\n",
    "BUCKET_NAME = \"fnandito-covid-analysis\"\n",
    "prefix = 'lstFile'\n",
    "\n",
    "print('using bucket %s'%BUCKET_NAME)"
   ]
  },
  {
   "cell_type": "markdown",
   "id": "everyday-retailer",
   "metadata": {},
   "source": [
    "### Download Images from S3"
   ]
  },
  {
   "cell_type": "code",
   "execution_count": 5,
   "id": "finished-cornell",
   "metadata": {},
   "outputs": [],
   "source": [
    "trainFileArr = []\n",
    "testFileArr = []"
   ]
  },
  {
   "cell_type": "code",
   "execution_count": 6,
   "id": "willing-connectivity",
   "metadata": {},
   "outputs": [],
   "source": [
    "def isCovid(DirName):\n",
    "    if DirName.find(\"Covid\") != -1:\n",
    "        return 1\n",
    "    else:\n",
    "        return 0"
   ]
  },
  {
   "cell_type": "code",
   "execution_count": 7,
   "id": "desirable-express",
   "metadata": {},
   "outputs": [],
   "source": [
    "def isPneumonia(DirName):\n",
    "    if DirName.find(\"Pneumonia\") != -1:\n",
    "        return 1\n",
    "    else:\n",
    "        return 0"
   ]
  },
  {
   "cell_type": "code",
   "execution_count": 8,
   "id": "available-member",
   "metadata": {},
   "outputs": [],
   "source": [
    "def GetNameDirFromS3(bucketName, remoteDirectoryName):\n",
    "    s3_resource = boto3.resource('s3')\n",
    "    bucket = s3_resource.Bucket(bucketName)\n",
    "    for obj in bucket.objects.filter(Prefix = remoteDirectoryName):\n",
    "        #if not os.path.exists(os.path.dirname(obj.key)):\n",
    "        #    os.makedirs(os.path.dirname(obj.key))\n",
    "        #bucket.download_file(obj.key, obj.key) # save to same path\n",
    "        FileName =  obj.key.split(\"/\")\n",
    "        Label = FileName[2]\n",
    "        Fn = Label + \"/\" + FileName[3]\n",
    "        if remoteDirectoryName == \"Covid19-dataset/train/\":\n",
    "            trainFileArr.append({'Name': Fn ,'LabelCovid': isCovid(Label), 'LabelPneumonia': isPneumonia(Label)})\n",
    "        else:\n",
    "            testFileArr.append({'Name': Fn ,'LabelCovid': isCovid(Label), 'LabelPneumonia': isPneumonia(Label)})"
   ]
  },
  {
   "cell_type": "code",
   "execution_count": 9,
   "id": "light-cameroon",
   "metadata": {},
   "outputs": [],
   "source": [
    "GetNameDirFromS3(BUCKET_NAME, \"Covid19-dataset/train/\")\n",
    "GetNameDirFromS3(BUCKET_NAME, \"Covid19-dataset/test/\")"
   ]
  },
  {
   "cell_type": "code",
   "execution_count": 10,
   "id": "injured-venture",
   "metadata": {},
   "outputs": [],
   "source": [
    "trainFile = pd.DataFrame(trainFileArr, columns=['Name','LabelCovid','LabelPneumonia'])\n",
    "testFile = pd.DataFrame(testFileArr, columns=['Name','LabelCovid','LabelPneumonia'])"
   ]
  },
  {
   "cell_type": "code",
   "execution_count": 11,
   "id": "instructional-transaction",
   "metadata": {},
   "outputs": [
    {
     "data": {
      "text/html": [
       "<div>\n",
       "<style scoped>\n",
       "    .dataframe tbody tr th:only-of-type {\n",
       "        vertical-align: middle;\n",
       "    }\n",
       "\n",
       "    .dataframe tbody tr th {\n",
       "        vertical-align: top;\n",
       "    }\n",
       "\n",
       "    .dataframe thead th {\n",
       "        text-align: right;\n",
       "    }\n",
       "</style>\n",
       "<table border=\"1\" class=\"dataframe\">\n",
       "  <thead>\n",
       "    <tr style=\"text-align: right;\">\n",
       "      <th></th>\n",
       "      <th>Name</th>\n",
       "      <th>LabelCovid</th>\n",
       "      <th>LabelPneumonia</th>\n",
       "    </tr>\n",
       "  </thead>\n",
       "  <tbody>\n",
       "    <tr>\n",
       "      <th>0</th>\n",
       "      <td>Covid/01.jpeg</td>\n",
       "      <td>1</td>\n",
       "      <td>0</td>\n",
       "    </tr>\n",
       "    <tr>\n",
       "      <th>1</th>\n",
       "      <td>Covid/010.png</td>\n",
       "      <td>1</td>\n",
       "      <td>0</td>\n",
       "    </tr>\n",
       "    <tr>\n",
       "      <th>2</th>\n",
       "      <td>Covid/012.jpeg</td>\n",
       "      <td>1</td>\n",
       "      <td>0</td>\n",
       "    </tr>\n",
       "    <tr>\n",
       "      <th>3</th>\n",
       "      <td>Covid/015.jpg</td>\n",
       "      <td>1</td>\n",
       "      <td>0</td>\n",
       "    </tr>\n",
       "    <tr>\n",
       "      <th>4</th>\n",
       "      <td>Covid/019.png</td>\n",
       "      <td>1</td>\n",
       "      <td>0</td>\n",
       "    </tr>\n",
       "    <tr>\n",
       "      <th>...</th>\n",
       "      <td>...</td>\n",
       "      <td>...</td>\n",
       "      <td>...</td>\n",
       "    </tr>\n",
       "    <tr>\n",
       "      <th>246</th>\n",
       "      <td>Viral Pneumonia/084.jpeg</td>\n",
       "      <td>0</td>\n",
       "      <td>1</td>\n",
       "    </tr>\n",
       "    <tr>\n",
       "      <th>247</th>\n",
       "      <td>Viral Pneumonia/09.jpeg</td>\n",
       "      <td>0</td>\n",
       "      <td>1</td>\n",
       "    </tr>\n",
       "    <tr>\n",
       "      <th>248</th>\n",
       "      <td>Viral Pneumonia/094.jpeg</td>\n",
       "      <td>0</td>\n",
       "      <td>1</td>\n",
       "    </tr>\n",
       "    <tr>\n",
       "      <th>249</th>\n",
       "      <td>Viral Pneumonia/095.jpeg</td>\n",
       "      <td>0</td>\n",
       "      <td>1</td>\n",
       "    </tr>\n",
       "    <tr>\n",
       "      <th>250</th>\n",
       "      <td>Viral Pneumonia/096.jpeg</td>\n",
       "      <td>0</td>\n",
       "      <td>1</td>\n",
       "    </tr>\n",
       "  </tbody>\n",
       "</table>\n",
       "<p>251 rows × 3 columns</p>\n",
       "</div>"
      ],
      "text/plain": [
       "                         Name  LabelCovid  LabelPneumonia\n",
       "0               Covid/01.jpeg           1               0\n",
       "1               Covid/010.png           1               0\n",
       "2              Covid/012.jpeg           1               0\n",
       "3               Covid/015.jpg           1               0\n",
       "4               Covid/019.png           1               0\n",
       "..                        ...         ...             ...\n",
       "246  Viral Pneumonia/084.jpeg           0               1\n",
       "247   Viral Pneumonia/09.jpeg           0               1\n",
       "248  Viral Pneumonia/094.jpeg           0               1\n",
       "249  Viral Pneumonia/095.jpeg           0               1\n",
       "250  Viral Pneumonia/096.jpeg           0               1\n",
       "\n",
       "[251 rows x 3 columns]"
      ]
     },
     "execution_count": 11,
     "metadata": {},
     "output_type": "execute_result"
    }
   ],
   "source": [
    "trainFile"
   ]
  },
  {
   "cell_type": "markdown",
   "id": "separated-clock",
   "metadata": {},
   "source": [
    "### Data Train Exploration"
   ]
  },
  {
   "cell_type": "code",
   "execution_count": 12,
   "id": "accepting-winning",
   "metadata": {},
   "outputs": [
    {
     "name": "stdout",
     "output_type": "stream",
     "text": [
      "Total Train Data :  251\n",
      "Total Train Covid Data :  111\n",
      "Total Train Pneumonia Data :  70\n",
      "Total Train Normal Data :  70\n"
     ]
    }
   ],
   "source": [
    "# 0 = Normal\n",
    "# 1 = Covid\n",
    "# 2 = pneumonia\n",
    "\n",
    "CovidLabel = trainFile.groupby('LabelCovid').count()\n",
    "PneumoniaLabel = trainFile.groupby('LabelPneumonia').count()\n",
    "TotalData = CovidLabel[\"Name\"][0] + CovidLabel[\"Name\"][1]\n",
    "TotalTrainCovid = CovidLabel[\"Name\"][1]\n",
    "TotalTrainPneumonia = PneumoniaLabel[\"Name\"][1]\n",
    "TotalTrainNormal = TotalData - TotalTrainCovid - TotalTrainPneumonia\n",
    "print(\"Total Train Data : \",TotalData)\n",
    "print(\"Total Train Covid Data : \",TotalTrainCovid)\n",
    "print(\"Total Train Pneumonia Data : \",TotalTrainPneumonia)\n",
    "print(\"Total Train Normal Data : \",TotalTrainNormal)"
   ]
  },
  {
   "cell_type": "code",
   "execution_count": 13,
   "id": "fatal-custody",
   "metadata": {},
   "outputs": [
    {
     "data": {
      "image/png": "[encoded data removed]",
      "text/plain": [
       "<Figure size 432x288 with 1 Axes>"
      ]
     },
     "metadata": {
      "needs_background": "light"
     },
     "output_type": "display_data"
    }
   ],
   "source": [
    "AxisYBar = [TotalTrainNormal, TotalTrainCovid, TotalTrainPneumonia]\n",
    "AxisXBar = [\"TotalNormal\", \"TotalCovid\", \"TotalPneumonia\"]\n",
    "\n",
    "plt.bar(AxisXBar, AxisYBar)\n",
    "plt.show()"
   ]
  },
  {
   "cell_type": "markdown",
   "id": "respective-holly",
   "metadata": {},
   "source": [
    "### Create LST File"
   ]
  },
  {
   "cell_type": "code",
   "execution_count": 14,
   "id": "going-jewelry",
   "metadata": {},
   "outputs": [],
   "source": [
    "with open('TrainImageList.lst', 'w') as fp:\n",
    "    for index, df in trainFile.iterrows():\n",
    "        fp.write(str(index) + '\\t')\n",
    "        fp.write(str(df[\"LabelCovid\"]) + '\\t')\n",
    "        fp.write(str(df[\"LabelPneumonia\"]) + '\\t')\n",
    "        fp.write(df[\"Name\"])\n",
    "        fp.write('\\n')\n",
    "    fp.close()"
   ]
  },
  {
   "cell_type": "code",
   "execution_count": 15,
   "id": "sound-binary",
   "metadata": {},
   "outputs": [],
   "source": [
    "with open('TestImageList.lst', 'w') as fp:\n",
    "    for index, df in testFile.iterrows():\n",
    "        fp.write(str(index) + '\\t')\n",
    "        fp.write(str(df[\"LabelCovid\"]) + '\\t')\n",
    "        fp.write(str(df[\"LabelPneumonia\"]) + '\\t')\n",
    "        fp.write(df[\"Name\"])\n",
    "        fp.write('\\n')\n",
    "    fp.close()"
   ]
  },
  {
   "cell_type": "markdown",
   "id": "grave-workplace",
   "metadata": {},
   "source": [
    "## Upload LST file to S3"
   ]
  },
  {
   "cell_type": "code",
   "execution_count": 16,
   "id": "associate-mississippi",
   "metadata": {},
   "outputs": [],
   "source": [
    "s3train_lst = 's3://{}/{}/train_lst/'.format(BUCKET_NAME, prefix)\n",
    "s3validation_lst = 's3://{}/{}/validation_lst/'.format(BUCKET_NAME, prefix)\n",
    "\n",
    "# upload the lst files to train_lst and validation_lst channels\n",
    "!aws s3 cp TrainImageList.lst $s3train_lst --quiet\n",
    "!aws s3 cp TestImageList.lst $s3validation_lst --quiet"
   ]
  },
  {
   "cell_type": "markdown",
   "id": "twenty-macedonia",
   "metadata": {},
   "source": [
    "## Create estimator"
   ]
  },
  {
   "cell_type": "code",
   "execution_count": 17,
   "id": "fiscal-nicholas",
   "metadata": {},
   "outputs": [
    {
     "name": "stderr",
     "output_type": "stream",
     "text": [
      "The method get_image_uri has been renamed in sagemaker>=2.\n",
      "See: https://sagemaker.readthedocs.io/en/stable/v2.html for details.\n",
      "Defaulting to the only supported framework/algorithm version: 1. Ignoring framework/algorithm version: latest.\n"
     ]
    },
    {
     "name": "stdout",
     "output_type": "stream",
     "text": [
      "475088953585.dkr.ecr.ap-southeast-1.amazonaws.com/image-classification:1\n"
     ]
    }
   ],
   "source": [
    "from sagemaker.amazon.amazon_estimator import get_image_uri\n",
    "\n",
    "training_image = get_image_uri(sess.boto_region_name, 'image-classification', repo_version=\"latest\")\n",
    "print (training_image)"
   ]
  },
  {
   "cell_type": "code",
   "execution_count": 18,
   "id": "owned-rochester",
   "metadata": {},
   "outputs": [
    {
     "name": "stderr",
     "output_type": "stream",
     "text": [
      "train_instance_count has been renamed in sagemaker>=2.\n",
      "See: https://sagemaker.readthedocs.io/en/stable/v2.html for details.\n",
      "train_instance_type has been renamed in sagemaker>=2.\n",
      "See: https://sagemaker.readthedocs.io/en/stable/v2.html for details.\n",
      "train_max_run has been renamed in sagemaker>=2.\n",
      "See: https://sagemaker.readthedocs.io/en/stable/v2.html for details.\n",
      "train_volume_size has been renamed in sagemaker>=2.\n",
      "See: https://sagemaker.readthedocs.io/en/stable/v2.html for details.\n"
     ]
    }
   ],
   "source": [
    "s3_output_location = 's3://{}/output'.format(BUCKET_NAME)\n",
    "multilabel_ic = sagemaker.estimator.Estimator(training_image,\n",
    "                                         role, \n",
    "                                         train_instance_count=1, \n",
    "                                         train_instance_type='ml.p2.xlarge',\n",
    "                                         train_volume_size = 50,\n",
    "                                         train_max_run = 360000,\n",
    "                                         input_mode= 'File',\n",
    "                                         output_path=s3_output_location,\n",
    "                                         sagemaker_session=sess)"
   ]
  },
  {
   "cell_type": "markdown",
   "id": "essential-alpha",
   "metadata": {},
   "source": [
    "### Set the data Train and test"
   ]
  },
  {
   "cell_type": "code",
   "execution_count": 19,
   "id": "latest-arbitration",
   "metadata": {},
   "outputs": [
    {
     "name": "stderr",
     "output_type": "stream",
     "text": [
      "The class sagemaker.session.s3_input has been renamed in sagemaker>=2.\n",
      "See: https://sagemaker.readthedocs.io/en/stable/v2.html for details.\n",
      "The class sagemaker.session.s3_input has been renamed in sagemaker>=2.\n",
      "See: https://sagemaker.readthedocs.io/en/stable/v2.html for details.\n",
      "The class sagemaker.session.s3_input has been renamed in sagemaker>=2.\n",
      "See: https://sagemaker.readthedocs.io/en/stable/v2.html for details.\n",
      "The class sagemaker.session.s3_input has been renamed in sagemaker>=2.\n",
      "See: https://sagemaker.readthedocs.io/en/stable/v2.html for details.\n"
     ]
    }
   ],
   "source": [
    "s3train = \"s3://{}/{}/train/\".format(BUCKET_NAME, \"Covid19-dataset\")\n",
    "s3validation = \"s3://{}/{}/test/\".format(BUCKET_NAME, \"Covid19-dataset\")\n",
    "\n",
    "train_data = sagemaker.session.s3_input(s3train, distribution='FullyReplicated', \n",
    "                        content_type='application/x-image', s3_data_type='S3Prefix')\n",
    "validation_data = sagemaker.session.s3_input(s3validation, distribution='FullyReplicated', \n",
    "                             content_type='application/x-image', s3_data_type='S3Prefix')\n",
    "                             \n",
    "train_data_lst = sagemaker.session.s3_input(s3train_lst, distribution='FullyReplicated', \n",
    "                        content_type='application/x-image', s3_data_type='S3Prefix')\n",
    "validation_data_lst = sagemaker.session.s3_input(s3validation_lst, distribution='FullyReplicated', \n",
    "                             content_type='application/x-image', s3_data_type='S3Prefix')\n",
    "data_channels = {'train': train_data, 'validation': validation_data, 'train_lst': train_data_lst, \n",
    "                 'validation_lst': validation_data_lst}"
   ]
  },
  {
   "cell_type": "markdown",
   "id": "viral-jurisdiction",
   "metadata": {},
   "source": [
    "## Set hyperparameters"
   ]
  },
  {
   "cell_type": "code",
   "execution_count": 20,
   "id": "activated-istanbul",
   "metadata": {},
   "outputs": [],
   "source": [
    "multilabel_ic.set_hyperparameters(num_layers=18,\n",
    "                             use_pretrained_model=1,\n",
    "                             image_shape = \"3,224,224\",\n",
    "                             num_classes=2,\n",
    "                             mini_batch_size=16,\n",
    "                             resize=256,\n",
    "                             epochs=5,\n",
    "                             learning_rate=0.001,\n",
    "                             num_training_samples=2500,\n",
    "                             use_weighted_loss=1,\n",
    "                             augmentation_type = 'crop_color_transform',\n",
    "                             precision_dtype='float32',\n",
    "                             multi_label=1)"
   ]
  },
  {
   "cell_type": "markdown",
   "id": "patient-framework",
   "metadata": {},
   "source": [
    "### Train the model"
   ]
  },
  {
   "cell_type": "code",
   "execution_count": 21,
   "id": "alpine-allocation",
   "metadata": {},
   "outputs": [
    {
     "name": "stdout",
     "output_type": "stream",
     "text": [
      "2021-04-12 09:52:40 Starting - Starting the training job...\n",
      "2021-04-12 09:52:42 Starting - Launching requested ML instancesProfilerReport-1618221160: InProgress\n",
      "......\n",
      "2021-04-12 09:53:57 Starting - Preparing the instances for training............\n",
      "2021-04-12 09:56:07 Downloading - Downloading input data\n",
      "2021-04-12 09:56:07 Training - Downloading the training image...\n",
      "2021-04-12 09:56:39 Training - Training image download completed. Training in progress..\u001b[34mDocker entrypoint called with argument(s): train\u001b[0m\n",
      "\u001b[34m[04/12/2021 09:56:44 INFO 139793416881984] Reading default configuration from /opt/amazon/lib/python3.7/site-packages/image_classification/default-input.json: {'use_pretrained_model': 0, 'num_layers': 152, 'epochs': 30, 'learning_rate': 0.1, 'lr_scheduler_factor': 0.1, 'optimizer': 'sgd', 'momentum': 0, 'weight_decay': 0.0001, 'beta_1': 0.9, 'beta_2': 0.999, 'eps': 1e-08, 'gamma': 0.9, 'mini_batch_size': 32, 'image_shape': '3,224,224', 'precision_dtype': 'float32'}\u001b[0m\n",
      "\u001b[34m[04/12/2021 09:56:44 INFO 139793416881984] Merging with provided configuration from /opt/ml/input/config/hyperparameters.json: {'augmentation_type': 'crop_color_transform', 'num_classes': '2', 'num_training_samples': '2500', 'multi_label': '1', 'image_shape': '3,224,224', 'use_weighted_loss': '1', 'resize': '256', 'use_pretrained_model': '1', 'precision_dtype': 'float32', 'num_layers': '18', 'epochs': '5', 'learning_rate': '0.001', 'mini_batch_size': '16'}\u001b[0m\n",
      "\u001b[34m[04/12/2021 09:56:44 INFO 139793416881984] Final configuration: {'use_pretrained_model': '1', 'num_layers': '18', 'epochs': '5', 'learning_rate': '0.001', 'lr_scheduler_factor': 0.1, 'optimizer': 'sgd', 'momentum': 0, 'weight_decay': 0.0001, 'beta_1': 0.9, 'beta_2': 0.999, 'eps': 1e-08, 'gamma': 0.9, 'mini_batch_size': '16', 'image_shape': '3,224,224', 'precision_dtype': 'float32', 'augmentation_type': 'crop_color_transform', 'num_classes': '2', 'num_training_samples': '2500', 'multi_label': '1', 'use_weighted_loss': '1', 'resize': '256'}\u001b[0m\n",
      "\u001b[34m[04/12/2021 09:56:44 INFO 139793416881984] Searching for .lst files in /opt/ml/input/data/train_lst.\u001b[0m\n",
      "\u001b[34m[04/12/2021 09:56:44 INFO 139793416881984] Creating record files for TrainImageList.lst\u001b[0m\n",
      "\u001b[34m[04/12/2021 09:56:50 INFO 139793416881984] Done creating record files...\u001b[0m\n",
      "\u001b[34m[04/12/2021 09:56:50 INFO 139793416881984] Searching for .lst files in /opt/ml/input/data/validation_lst.\u001b[0m\n",
      "\u001b[34m[04/12/2021 09:56:50 INFO 139793416881984] Creating record files for TestImageList.lst\u001b[0m\n",
      "\u001b[34m[04/12/2021 09:56:51 INFO 139793416881984] Done creating record files...\u001b[0m\n",
      "\u001b[34m[04/12/2021 09:56:51 INFO 139793416881984] label-format is multi-hot\u001b[0m\n",
      "\u001b[34m[04/12/2021 09:56:51 INFO 139793416881984] use_pretrained_model: 1\u001b[0m\n",
      "\u001b[34m[04/12/2021 09:56:51 INFO 139793416881984] multi_label: 1\u001b[0m\n",
      "\u001b[34m[04/12/2021 09:56:51 INFO 139793416881984] Using pretrained model for initializing weights and transfer learning.\u001b[0m\n",
      "\u001b[34m[04/12/2021 09:56:51 INFO 139793416881984] ---- Parameters ----\u001b[0m\n",
      "\u001b[34m[04/12/2021 09:56:51 INFO 139793416881984] num_layers: 18\u001b[0m\n",
      "\u001b[34m[04/12/2021 09:56:51 INFO 139793416881984] data type: <class 'numpy.float32'>\u001b[0m\n",
      "\u001b[34m[04/12/2021 09:56:51 INFO 139793416881984] epochs: 5\u001b[0m\n",
      "\u001b[34m[04/12/2021 09:56:51 INFO 139793416881984] image resize size: 256\u001b[0m\n",
      "\u001b[34m[04/12/2021 09:56:51 INFO 139793416881984] optimizer: sgd\u001b[0m\n",
      "\u001b[34m[04/12/2021 09:56:51 INFO 139793416881984] momentum: 0.9\u001b[0m\n",
      "\u001b[34m[04/12/2021 09:56:51 INFO 139793416881984] weight_decay: 0.0001\u001b[0m\n",
      "\u001b[34m[04/12/2021 09:56:51 INFO 139793416881984] learning_rate: 0.001\u001b[0m\n",
      "\u001b[34m[04/12/2021 09:56:51 INFO 139793416881984] num_training_samples: 2500\u001b[0m\n",
      "\u001b[34m[04/12/2021 09:56:51 INFO 139793416881984] mini_batch_size: 16\u001b[0m\n",
      "\u001b[34m[04/12/2021 09:56:51 INFO 139793416881984] image_shape: 3,224,224\u001b[0m\n",
      "\u001b[34m[04/12/2021 09:56:51 INFO 139793416881984] num_classes: 2\u001b[0m\n",
      "\u001b[34m[04/12/2021 09:56:51 INFO 139793416881984] augmentation_type: crop_color_transform\u001b[0m\n",
      "\u001b[34m[04/12/2021 09:56:51 INFO 139793416881984] kv_store: device\u001b[0m\n",
      "\u001b[34m[04/12/2021 09:56:51 INFO 139793416881984] checkpoint_frequency not set, will store the best model\u001b[0m\n",
      "\u001b[34m[04/12/2021 09:56:51 INFO 139793416881984] --------------------\u001b[0m\n",
      "\u001b[34m[09:56:51] /opt/brazil-pkg-cache/packages/AIAlgorithmsMXNet/AIAlgorithmsMXNet-1.3.x_ecl_Cuda_10.1.x.6753.0/AL2_x86_64/generic-flavor/src/src/nnvm/legacy_json_util.cc:209: Loading symbol saved by previous version v0.8.0. Attempting to upgrade...\u001b[0m\n",
      "\u001b[34m[09:56:51] /opt/brazil-pkg-cache/packages/AIAlgorithmsMXNet/AIAlgorithmsMXNet-1.3.x_ecl_Cuda_10.1.x.6753.0/AL2_x86_64/generic-flavor/src/src/nnvm/legacy_json_util.cc:217: Symbol successfully upgraded!\u001b[0m\n",
      "\u001b[34m[04/12/2021 09:56:51 INFO 139793416881984] Setting number of threads: 3\u001b[0m\n",
      "\u001b[34m[09:56:58] /opt/brazil-pkg-cache/packages/AIAlgorithmsMXNet/AIAlgorithmsMXNet-1.3.x_ecl_Cuda_10.1.x.6753.0/AL2_x86_64/generic-flavor/src/src/operator/nn/./cudnn/./cudnn_algoreg-inl.h:97: Running performance tests to find the best convolution algorithm, this can take a while... (setting env variable MXNET_CUDNN_AUTOTUNE_DEFAULT to 0 to disable)\u001b[0m\n",
      "\u001b[34m[04/12/2021 09:57:02 INFO 139793416881984] Epoch[0] Batch [20]#011Speed: 77.335 samples/sec#011accuracy=0.680060\u001b[0m\n",
      "\u001b[34m[04/12/2021 09:57:04 INFO 139793416881984] Epoch[0] Batch [40]#011Speed: 99.188 samples/sec#011accuracy=0.801067\u001b[0m\n",
      "\u001b[34m[04/12/2021 09:57:06 INFO 139793416881984] Epoch[0] Batch [60]#011Speed: 108.457 samples/sec#011accuracy=0.844775\u001b[0m\n",
      "\u001b[34m[04/12/2021 09:57:08 INFO 139793416881984] Epoch[0] Batch [80]#011Speed: 115.701 samples/sec#011accuracy=0.873457\u001b[0m\n",
      "\u001b[34m[04/12/2021 09:57:11 INFO 139793416881984] Epoch[0] Batch [100]#011Speed: 120.080 samples/sec#011accuracy=0.888923\u001b[0m\n",
      "\u001b[34m[04/12/2021 09:57:13 INFO 139793416881984] Epoch[0] Batch [120]#011Speed: 123.372 samples/sec#011accuracy=0.901343\u001b[0m\n",
      "\u001b[34m[04/12/2021 09:57:15 INFO 139793416881984] Epoch[0] Batch [140]#011Speed: 126.032 samples/sec#011accuracy=0.910239\u001b[0m\n",
      "\u001b[34m[04/12/2021 09:57:17 INFO 139793416881984] Epoch[0] Train-accuracy=0.915665\u001b[0m\n",
      "\u001b[34m[04/12/2021 09:57:17 INFO 139793416881984] Epoch[0] Time cost=19.479\u001b[0m\n",
      "\u001b[34m[04/12/2021 09:57:17 INFO 139793416881984] Epoch[0] Validation-accuracy=0.945312\u001b[0m\n",
      "\u001b[34m[04/12/2021 09:57:17 INFO 139793416881984] Storing the best model with validation accuracy: 0.945312\u001b[0m\n",
      "\u001b[34m[04/12/2021 09:57:17 INFO 139793416881984] Saved checkpoint to \"/opt/ml/model/image-classification-0001.params\"\u001b[0m\n",
      "\u001b[34m[04/12/2021 09:57:20 INFO 139793416881984] Epoch[1] Batch [20]#011Speed: 139.413 samples/sec#011accuracy=0.977679\u001b[0m\n",
      "\u001b[34m[04/12/2021 09:57:22 INFO 139793416881984] Epoch[1] Batch [40]#011Speed: 138.035 samples/sec#011accuracy=0.980183\u001b[0m\n",
      "\u001b[34m[04/12/2021 09:57:24 INFO 139793416881984] Epoch[1] Batch [60]#011Speed: 139.775 samples/sec#011accuracy=0.982582\u001b[0m\n",
      "\u001b[34m[04/12/2021 09:57:27 INFO 139793416881984] Epoch[1] Batch [80]#011Speed: 130.872 samples/sec#011accuracy=0.979167\u001b[0m\n",
      "\u001b[34m[04/12/2021 09:57:29 INFO 139793416881984] Epoch[1] Batch [100]#011Speed: 132.985 samples/sec#011accuracy=0.978342\u001b[0m\n",
      "\u001b[34m[04/12/2021 09:57:32 INFO 139793416881984] Epoch[1] Batch [120]#011Speed: 134.335 samples/sec#011accuracy=0.980114\u001b[0m\n",
      "\u001b[34m[04/12/2021 09:57:34 INFO 139793416881984] Epoch[1] Batch [140]#011Speed: 135.578 samples/sec#011accuracy=0.979832\u001b[0m\n",
      "\u001b[34m[04/12/2021 09:57:36 INFO 139793416881984] Epoch[1] Train-accuracy=0.980970\u001b[0m\n",
      "\u001b[34m[04/12/2021 09:57:36 INFO 139793416881984] Epoch[1] Time cost=18.201\u001b[0m\n",
      "\u001b[34m[04/12/2021 09:57:36 INFO 139793416881984] Epoch[1] Validation-accuracy=0.960938\u001b[0m\n",
      "\u001b[34m[04/12/2021 09:57:36 INFO 139793416881984] Storing the best model with validation accuracy: 0.960938\u001b[0m\n",
      "\u001b[34m[04/12/2021 09:57:36 INFO 139793416881984] Saved checkpoint to \"/opt/ml/model/image-classification-0002.params\"\u001b[0m\n",
      "\u001b[34m[04/12/2021 09:57:38 INFO 139793416881984] Epoch[2] Batch [20]#011Speed: 138.256 samples/sec#011accuracy=0.980655\u001b[0m\n",
      "\u001b[34m[04/12/2021 09:57:41 INFO 139793416881984] Epoch[2] Batch [40]#011Speed: 140.632 samples/sec#011accuracy=0.978659\u001b[0m\n",
      "\u001b[34m[04/12/2021 09:57:43 INFO 139793416881984] Epoch[2] Batch [60]#011Speed: 141.139 samples/sec#011accuracy=0.982070\u001b[0m\n",
      "\u001b[34m[04/12/2021 09:57:45 INFO 139793416881984] Epoch[2] Batch [80]#011Speed: 142.035 samples/sec#011accuracy=0.984568\u001b[0m\n",
      "\u001b[34m[04/12/2021 09:57:47 INFO 139793416881984] Epoch[2] Batch [100]#011Speed: 142.116 samples/sec#011accuracy=0.986696\u001b[0m\n",
      "\u001b[34m[04/12/2021 09:57:50 INFO 139793416881984] Epoch[2] Batch [120]#011Speed: 142.359 samples/sec#011accuracy=0.987345\u001b[0m\n",
      "\u001b[34m[04/12/2021 09:57:52 INFO 139793416881984] Epoch[2] Batch [140]#011Speed: 142.596 samples/sec#011accuracy=0.988254\u001b[0m\n",
      "\u001b[34m[04/12/2021 09:57:54 INFO 139793416881984] Epoch[2] Train-accuracy=0.987179\u001b[0m\n",
      "\u001b[34m[04/12/2021 09:57:54 INFO 139793416881984] Epoch[2] Time cost=17.409\u001b[0m\n",
      "\u001b[34m[04/12/2021 09:57:54 INFO 139793416881984] Epoch[2] Validation-accuracy=0.968750\u001b[0m\n",
      "\u001b[34m[04/12/2021 09:57:54 INFO 139793416881984] Storing the best model with validation accuracy: 0.968750\u001b[0m\n",
      "\u001b[34m[04/12/2021 09:57:54 INFO 139793416881984] Saved checkpoint to \"/opt/ml/model/image-classification-0003.params\"\u001b[0m\n",
      "\u001b[34m[04/12/2021 09:57:57 INFO 139793416881984] Epoch[3] Batch [20]#011Speed: 107.685 samples/sec#011accuracy=0.991071\u001b[0m\n",
      "\u001b[34m[04/12/2021 09:57:59 INFO 139793416881984] Epoch[3] Batch [40]#011Speed: 122.481 samples/sec#011accuracy=0.987043\u001b[0m\n",
      "\u001b[34m[04/12/2021 09:58:02 INFO 139793416881984] Epoch[3] Batch [60]#011Speed: 128.131 samples/sec#011accuracy=0.985656\u001b[0m\n",
      "\u001b[34m[04/12/2021 09:58:04 INFO 139793416881984] Epoch[3] Batch [80]#011Speed: 131.141 samples/sec#011accuracy=0.986883\u001b[0m\n",
      "\u001b[34m[04/12/2021 09:58:06 INFO 139793416881984] Epoch[3] Batch [100]#011Speed: 132.355 samples/sec#011accuracy=0.987005\u001b[0m\n",
      "\u001b[34m[04/12/2021 09:58:09 INFO 139793416881984] Epoch[3] Batch [120]#011Speed: 132.534 samples/sec#011accuracy=0.988120\u001b[0m\n",
      "\u001b[34m[04/12/2021 09:58:11 INFO 139793416881984] Epoch[3] Batch [140]#011Speed: 133.837 samples/sec#011accuracy=0.989140\u001b[0m\n",
      "\u001b[34m[04/12/2021 09:58:12 INFO 139793416881984] Epoch[3] Train-accuracy=0.988782\u001b[0m\n",
      "\u001b[34m[04/12/2021 09:58:12 INFO 139793416881984] Epoch[3] Time cost=18.435\u001b[0m\n",
      "\u001b[34m[04/12/2021 09:58:13 INFO 139793416881984] Epoch[3] Validation-accuracy=0.976562\u001b[0m\n",
      "\u001b[34m[04/12/2021 09:58:13 INFO 139793416881984] Storing the best model with validation accuracy: 0.976562\u001b[0m\n",
      "\u001b[34m[04/12/2021 09:58:13 INFO 139793416881984] Saved checkpoint to \"/opt/ml/model/image-classification-0004.params\"\u001b[0m\n",
      "\u001b[34m[04/12/2021 09:58:15 INFO 139793416881984] Epoch[4] Batch [20]#011Speed: 140.011 samples/sec#011accuracy=0.997024\u001b[0m\n",
      "\u001b[34m[04/12/2021 09:58:18 INFO 139793416881984] Epoch[4] Batch [40]#011Speed: 140.612 samples/sec#011accuracy=0.994665\u001b[0m\n",
      "\u001b[34m[04/12/2021 09:58:20 INFO 139793416881984] Epoch[4] Batch [60]#011Speed: 141.338 samples/sec#011accuracy=0.992316\u001b[0m\n",
      "\u001b[34m[04/12/2021 09:58:22 INFO 139793416881984] Epoch[4] Batch [80]#011Speed: 141.524 samples/sec#011accuracy=0.990355\u001b[0m\n",
      "\u001b[34m[04/12/2021 09:58:24 INFO 139793416881984] Epoch[4] Batch [100]#011Speed: 141.779 samples/sec#011accuracy=0.990718\u001b[0m\n",
      "\u001b[34m[04/12/2021 09:58:27 INFO 139793416881984] Epoch[4] Batch [120]#011Speed: 134.955 samples/sec#011accuracy=0.991994\u001b[0m\n",
      "\u001b[34m[04/12/2021 09:58:29 INFO 139793416881984] Epoch[4] Batch [140]#011Speed: 135.903 samples/sec#011accuracy=0.992243\u001b[0m\n",
      "\u001b[34m[04/12/2021 09:58:31 INFO 139793416881984] Epoch[4] Train-accuracy=0.992588\u001b[0m\n",
      "\u001b[34m[04/12/2021 09:58:31 INFO 139793416881984] Epoch[4] Time cost=18.195\u001b[0m\n",
      "\u001b[34m[04/12/2021 09:58:31 INFO 139793416881984] Epoch[4] Validation-accuracy=0.984375\u001b[0m\n",
      "\u001b[34m[04/12/2021 09:58:31 INFO 139793416881984] Storing the best model with validation accuracy: 0.984375\u001b[0m\n",
      "\u001b[34m[04/12/2021 09:58:32 INFO 139793416881984] Saved checkpoint to \"/opt/ml/model/image-classification-0005.params\"\u001b[0m\n",
      "\n",
      "2021-04-12 09:58:33 Uploading - Uploading generated training model\n",
      "2021-04-12 09:59:05 Completed - Training job completed\n",
      "ProfilerReport-1618221160: NoIssuesFound\n",
      "Training seconds: 176\n",
      "Billable seconds: 176\n"
     ]
    }
   ],
   "source": [
    "multilabel_ic.fit(inputs=data_channels, logs=True)"
   ]
  },
  {
   "cell_type": "markdown",
   "id": "gothic-burlington",
   "metadata": {},
   "source": [
    "### Create Inference"
   ]
  },
  {
   "cell_type": "code",
   "execution_count": 22,
   "id": "corrected-separation",
   "metadata": {},
   "outputs": [
    {
     "name": "stdout",
     "output_type": "stream",
     "text": [
      "---------------!"
     ]
    }
   ],
   "source": [
    "ic_classifier = multilabel_ic.deploy(initial_instance_count = 1,\n",
    "                                          instance_type = 'ml.m4.xlarge')"
   ]
  },
  {
   "cell_type": "code",
   "execution_count": 23,
   "id": "resistant-export",
   "metadata": {},
   "outputs": [
    {
     "data": {
      "text/plain": [
       "<sagemaker.predictor.Predictor at 0x7f3a7695d710>"
      ]
     },
     "execution_count": 23,
     "metadata": {},
     "output_type": "execute_result"
    }
   ],
   "source": [
    "ic_classifier"
   ]
  },
  {
   "cell_type": "markdown",
   "id": "sharing-presence",
   "metadata": {},
   "source": [
    "### Create Endpoint Configuration"
   ]
  },
  {
   "cell_type": "code",
   "execution_count": 24,
   "id": "wanted-result",
   "metadata": {},
   "outputs": [
    {
     "ename": "ClientError",
     "evalue": "An error occurred (ValidationException) when calling the CreateEndpointConfig operation: Cannot create already existing endpoint configuration \"arn:aws:sagemaker:ap-southeast-1:930652504693:endpoint-config/covid19-ml-config\".",
     "output_type": "error",
     "traceback": [
      "\u001b[0;31m---------------------------------------------------------------------------\u001b[0m",
      "\u001b[0;31mClientError\u001b[0m                               Traceback (most recent call last)",
      "\u001b[0;32m<ipython-input-24-50ec50c87ab3>\u001b[0m in \u001b[0;36m<module>\u001b[0;34m\u001b[0m\n\u001b[1;32m      7\u001b[0m         \u001b[0;34m'InitialInstanceCount'\u001b[0m\u001b[0;34m:\u001b[0m\u001b[0;36m1\u001b[0m\u001b[0;34m,\u001b[0m\u001b[0;34m\u001b[0m\u001b[0;34m\u001b[0m\u001b[0m\n\u001b[1;32m      8\u001b[0m         \u001b[0;34m'ModelName'\u001b[0m\u001b[0;34m:\u001b[0m\u001b[0;34m\"image-classification-2021-04-09-03-18-22-970\"\u001b[0m\u001b[0;34m,\u001b[0m\u001b[0;34m\u001b[0m\u001b[0;34m\u001b[0m\u001b[0m\n\u001b[0;32m----> 9\u001b[0;31m         'VariantName':'AllTraffic'}])\n\u001b[0m\u001b[1;32m     10\u001b[0m \u001b[0;34m\u001b[0m\u001b[0m\n\u001b[1;32m     11\u001b[0m \u001b[0mprint\u001b[0m\u001b[0;34m(\u001b[0m\u001b[0;34m'Endpoint configuration name: {}'\u001b[0m\u001b[0;34m.\u001b[0m\u001b[0mformat\u001b[0m\u001b[0;34m(\u001b[0m\u001b[0mendpoint_config_name\u001b[0m\u001b[0;34m)\u001b[0m\u001b[0;34m)\u001b[0m\u001b[0;34m\u001b[0m\u001b[0;34m\u001b[0m\u001b[0m\n",
      "\u001b[0;32m~/anaconda3/envs/amazonei_mxnet_p36/lib/python3.6/site-packages/botocore/client.py\u001b[0m in \u001b[0;36m_api_call\u001b[0;34m(self, *args, **kwargs)\u001b[0m\n\u001b[1;32m    355\u001b[0m                     \"%s() only accepts keyword arguments.\" % py_operation_name)\n\u001b[1;32m    356\u001b[0m             \u001b[0;31m# The \"self\" in this scope is referring to the BaseClient.\u001b[0m\u001b[0;34m\u001b[0m\u001b[0;34m\u001b[0m\u001b[0;34m\u001b[0m\u001b[0m\n\u001b[0;32m--> 357\u001b[0;31m             \u001b[0;32mreturn\u001b[0m \u001b[0mself\u001b[0m\u001b[0;34m.\u001b[0m\u001b[0m_make_api_call\u001b[0m\u001b[0;34m(\u001b[0m\u001b[0moperation_name\u001b[0m\u001b[0;34m,\u001b[0m \u001b[0mkwargs\u001b[0m\u001b[0;34m)\u001b[0m\u001b[0;34m\u001b[0m\u001b[0;34m\u001b[0m\u001b[0m\n\u001b[0m\u001b[1;32m    358\u001b[0m \u001b[0;34m\u001b[0m\u001b[0m\n\u001b[1;32m    359\u001b[0m         \u001b[0m_api_call\u001b[0m\u001b[0;34m.\u001b[0m\u001b[0m__name__\u001b[0m \u001b[0;34m=\u001b[0m \u001b[0mstr\u001b[0m\u001b[0;34m(\u001b[0m\u001b[0mpy_operation_name\u001b[0m\u001b[0;34m)\u001b[0m\u001b[0;34m\u001b[0m\u001b[0;34m\u001b[0m\u001b[0m\n",
      "\u001b[0;32m~/anaconda3/envs/amazonei_mxnet_p36/lib/python3.6/site-packages/botocore/client.py\u001b[0m in \u001b[0;36m_make_api_call\u001b[0;34m(self, operation_name, api_params)\u001b[0m\n\u001b[1;32m    674\u001b[0m             \u001b[0merror_code\u001b[0m \u001b[0;34m=\u001b[0m \u001b[0mparsed_response\u001b[0m\u001b[0;34m.\u001b[0m\u001b[0mget\u001b[0m\u001b[0;34m(\u001b[0m\u001b[0;34m\"Error\"\u001b[0m\u001b[0;34m,\u001b[0m \u001b[0;34m{\u001b[0m\u001b[0;34m}\u001b[0m\u001b[0;34m)\u001b[0m\u001b[0;34m.\u001b[0m\u001b[0mget\u001b[0m\u001b[0;34m(\u001b[0m\u001b[0;34m\"Code\"\u001b[0m\u001b[0;34m)\u001b[0m\u001b[0;34m\u001b[0m\u001b[0;34m\u001b[0m\u001b[0m\n\u001b[1;32m    675\u001b[0m             \u001b[0merror_class\u001b[0m \u001b[0;34m=\u001b[0m \u001b[0mself\u001b[0m\u001b[0;34m.\u001b[0m\u001b[0mexceptions\u001b[0m\u001b[0;34m.\u001b[0m\u001b[0mfrom_code\u001b[0m\u001b[0;34m(\u001b[0m\u001b[0merror_code\u001b[0m\u001b[0;34m)\u001b[0m\u001b[0;34m\u001b[0m\u001b[0;34m\u001b[0m\u001b[0m\n\u001b[0;32m--> 676\u001b[0;31m             \u001b[0;32mraise\u001b[0m \u001b[0merror_class\u001b[0m\u001b[0;34m(\u001b[0m\u001b[0mparsed_response\u001b[0m\u001b[0;34m,\u001b[0m \u001b[0moperation_name\u001b[0m\u001b[0;34m)\u001b[0m\u001b[0;34m\u001b[0m\u001b[0;34m\u001b[0m\u001b[0m\n\u001b[0m\u001b[1;32m    677\u001b[0m         \u001b[0;32melse\u001b[0m\u001b[0;34m:\u001b[0m\u001b[0;34m\u001b[0m\u001b[0;34m\u001b[0m\u001b[0m\n\u001b[1;32m    678\u001b[0m             \u001b[0;32mreturn\u001b[0m \u001b[0mparsed_response\u001b[0m\u001b[0;34m\u001b[0m\u001b[0;34m\u001b[0m\u001b[0m\n",
      "\u001b[0;31mClientError\u001b[0m: An error occurred (ValidationException) when calling the CreateEndpointConfig operation: Cannot create already existing endpoint configuration \"arn:aws:sagemaker:ap-southeast-1:930652504693:endpoint-config/covid19-ml-config\"."
     ]
    }
   ],
   "source": [
    "sage = boto3.Session().client(service_name='sagemaker') \n",
    "\n",
    "# Fill your own Endpoint config name, copy the name of your model name on your SageMaker Console, in Inference -> Model.\n",
    "endpoint_config_name = \"COVID19-ML-Config\"\n",
    "endpoint_config_response = sage.create_endpoint_config(\n",
    "    EndpointConfigName = endpoint_config_name,\n",
    "    ProductionVariants=[{\n",
    "        'InstanceType':'ml.m4.xlarge',\n",
    "        'InitialInstanceCount':1,\n",
    "        'ModelName':\"image-classification-2021-04-09-03-18-22-970\",\n",
    "        'VariantName':'AllTraffic'}])\n",
    "\n",
    "print('Endpoint configuration name: {}'.format(endpoint_config_name))\n",
    "print('Endpoint configuration arn:  {}'.format(endpoint_config_response['EndpointConfigArn']))"
   ]
  },
  {
   "cell_type": "markdown",
   "id": "phantom-percentage",
   "metadata": {},
   "source": [
    "### Create Endpoint"
   ]
  },
  {
   "cell_type": "code",
   "execution_count": 25,
   "id": "united-trout",
   "metadata": {},
   "outputs": [
    {
     "ename": "ClientError",
     "evalue": "An error occurred (ValidationException) when calling the CreateEndpoint operation: Cannot create already existing endpoint \"arn:aws:sagemaker:ap-southeast-1:930652504693:endpoint/covid19-ml-endpoint\".",
     "output_type": "error",
     "traceback": [
      "\u001b[0;31m---------------------------------------------------------------------------\u001b[0m",
      "\u001b[0;31mClientError\u001b[0m                               Traceback (most recent call last)",
      "\u001b[0;32m<ipython-input-25-de3b9e425575>\u001b[0m in \u001b[0;36m<module>\u001b[0;34m\u001b[0m\n\u001b[1;32m      6\u001b[0m }\n\u001b[1;32m      7\u001b[0m \u001b[0msagemaker\u001b[0m \u001b[0;34m=\u001b[0m \u001b[0mboto3\u001b[0m\u001b[0;34m.\u001b[0m\u001b[0mclient\u001b[0m\u001b[0;34m(\u001b[0m\u001b[0mservice_name\u001b[0m\u001b[0;34m=\u001b[0m\u001b[0;34m'sagemaker'\u001b[0m\u001b[0;34m)\u001b[0m\u001b[0;34m\u001b[0m\u001b[0;34m\u001b[0m\u001b[0m\n\u001b[0;32m----> 8\u001b[0;31m \u001b[0mendpoint_response\u001b[0m \u001b[0;34m=\u001b[0m \u001b[0msagemaker\u001b[0m\u001b[0;34m.\u001b[0m\u001b[0mcreate_endpoint\u001b[0m\u001b[0;34m(\u001b[0m\u001b[0;34m**\u001b[0m\u001b[0mendpoint_params\u001b[0m\u001b[0;34m)\u001b[0m\u001b[0;34m\u001b[0m\u001b[0;34m\u001b[0m\u001b[0m\n\u001b[0m\u001b[1;32m      9\u001b[0m \u001b[0mprint\u001b[0m\u001b[0;34m(\u001b[0m\u001b[0;34m'EndpointArn = {}'\u001b[0m\u001b[0;34m.\u001b[0m\u001b[0mformat\u001b[0m\u001b[0;34m(\u001b[0m\u001b[0mendpoint_response\u001b[0m\u001b[0;34m[\u001b[0m\u001b[0;34m'EndpointArn'\u001b[0m\u001b[0;34m]\u001b[0m\u001b[0;34m)\u001b[0m\u001b[0;34m)\u001b[0m\u001b[0;34m\u001b[0m\u001b[0;34m\u001b[0m\u001b[0m\n",
      "\u001b[0;32m~/anaconda3/envs/amazonei_mxnet_p36/lib/python3.6/site-packages/botocore/client.py\u001b[0m in \u001b[0;36m_api_call\u001b[0;34m(self, *args, **kwargs)\u001b[0m\n\u001b[1;32m    355\u001b[0m                     \"%s() only accepts keyword arguments.\" % py_operation_name)\n\u001b[1;32m    356\u001b[0m             \u001b[0;31m# The \"self\" in this scope is referring to the BaseClient.\u001b[0m\u001b[0;34m\u001b[0m\u001b[0;34m\u001b[0m\u001b[0;34m\u001b[0m\u001b[0m\n\u001b[0;32m--> 357\u001b[0;31m             \u001b[0;32mreturn\u001b[0m \u001b[0mself\u001b[0m\u001b[0;34m.\u001b[0m\u001b[0m_make_api_call\u001b[0m\u001b[0;34m(\u001b[0m\u001b[0moperation_name\u001b[0m\u001b[0;34m,\u001b[0m \u001b[0mkwargs\u001b[0m\u001b[0;34m)\u001b[0m\u001b[0;34m\u001b[0m\u001b[0;34m\u001b[0m\u001b[0m\n\u001b[0m\u001b[1;32m    358\u001b[0m \u001b[0;34m\u001b[0m\u001b[0m\n\u001b[1;32m    359\u001b[0m         \u001b[0m_api_call\u001b[0m\u001b[0;34m.\u001b[0m\u001b[0m__name__\u001b[0m \u001b[0;34m=\u001b[0m \u001b[0mstr\u001b[0m\u001b[0;34m(\u001b[0m\u001b[0mpy_operation_name\u001b[0m\u001b[0;34m)\u001b[0m\u001b[0;34m\u001b[0m\u001b[0;34m\u001b[0m\u001b[0m\n",
      "\u001b[0;32m~/anaconda3/envs/amazonei_mxnet_p36/lib/python3.6/site-packages/botocore/client.py\u001b[0m in \u001b[0;36m_make_api_call\u001b[0;34m(self, operation_name, api_params)\u001b[0m\n\u001b[1;32m    674\u001b[0m             \u001b[0merror_code\u001b[0m \u001b[0;34m=\u001b[0m \u001b[0mparsed_response\u001b[0m\u001b[0;34m.\u001b[0m\u001b[0mget\u001b[0m\u001b[0;34m(\u001b[0m\u001b[0;34m\"Error\"\u001b[0m\u001b[0;34m,\u001b[0m \u001b[0;34m{\u001b[0m\u001b[0;34m}\u001b[0m\u001b[0;34m)\u001b[0m\u001b[0;34m.\u001b[0m\u001b[0mget\u001b[0m\u001b[0;34m(\u001b[0m\u001b[0;34m\"Code\"\u001b[0m\u001b[0;34m)\u001b[0m\u001b[0;34m\u001b[0m\u001b[0;34m\u001b[0m\u001b[0m\n\u001b[1;32m    675\u001b[0m             \u001b[0merror_class\u001b[0m \u001b[0;34m=\u001b[0m \u001b[0mself\u001b[0m\u001b[0;34m.\u001b[0m\u001b[0mexceptions\u001b[0m\u001b[0;34m.\u001b[0m\u001b[0mfrom_code\u001b[0m\u001b[0;34m(\u001b[0m\u001b[0merror_code\u001b[0m\u001b[0;34m)\u001b[0m\u001b[0;34m\u001b[0m\u001b[0;34m\u001b[0m\u001b[0m\n\u001b[0;32m--> 676\u001b[0;31m             \u001b[0;32mraise\u001b[0m \u001b[0merror_class\u001b[0m\u001b[0;34m(\u001b[0m\u001b[0mparsed_response\u001b[0m\u001b[0;34m,\u001b[0m \u001b[0moperation_name\u001b[0m\u001b[0;34m)\u001b[0m\u001b[0;34m\u001b[0m\u001b[0;34m\u001b[0m\u001b[0m\n\u001b[0m\u001b[1;32m    677\u001b[0m         \u001b[0;32melse\u001b[0m\u001b[0;34m:\u001b[0m\u001b[0;34m\u001b[0m\u001b[0;34m\u001b[0m\u001b[0m\n\u001b[1;32m    678\u001b[0m             \u001b[0;32mreturn\u001b[0m \u001b[0mparsed_response\u001b[0m\u001b[0;34m\u001b[0m\u001b[0;34m\u001b[0m\u001b[0m\n",
      "\u001b[0;31mClientError\u001b[0m: An error occurred (ValidationException) when calling the CreateEndpoint operation: Cannot create already existing endpoint \"arn:aws:sagemaker:ap-southeast-1:930652504693:endpoint/covid19-ml-endpoint\"."
     ]
    }
   ],
   "source": [
    "endpoint_name = \"COVID19-ML-Endpoint\"\n",
    "\n",
    "endpoint_params = {\n",
    "    'EndpointName': endpoint_name,\n",
    "    'EndpointConfigName': endpoint_config_name,\n",
    "}\n",
    "sagemaker = boto3.client(service_name='sagemaker')\n",
    "endpoint_response = sagemaker.create_endpoint(**endpoint_params)\n",
    "print('EndpointArn = {}'.format(endpoint_response['EndpointArn']))"
   ]
  },
  {
   "cell_type": "markdown",
   "id": "hispanic-ethiopia",
   "metadata": {},
   "source": [
    "### Check Endpoint Status"
   ]
  },
  {
   "cell_type": "code",
   "execution_count": null,
   "id": "instrumental-minority",
   "metadata": {},
   "outputs": [],
   "source": [
    "# get the status of the endpoint\n",
    "response = sagemaker.describe_endpoint(EndpointName=endpoint_name)\n",
    "status = response['EndpointStatus']\n",
    "print('EndpointStatus = {}'.format(status))\n",
    "\n",
    "# wait until the status has changed\n",
    "sagemaker.get_waiter('endpoint_in_service').wait(EndpointName=endpoint_name)\n",
    "\n",
    "# print the status of the endpoint\n",
    "endpoint_response = sagemaker.describe_endpoint(EndpointName=endpoint_name)\n",
    "status = endpoint_response['EndpointStatus']\n",
    "print('Endpoint creation ended with EndpointStatus = {}'.format(status))\n",
    "\n",
    "if status != 'InService':\n",
    "    raise Exception('Endpoint creation failed.')"
   ]
  },
  {
   "cell_type": "markdown",
   "id": "structured-participation",
   "metadata": {},
   "source": [
    "### Download Dataset from S3 to local"
   ]
  },
  {
   "cell_type": "code",
   "execution_count": 26,
   "id": "supposed-wireless",
   "metadata": {},
   "outputs": [],
   "source": [
    "def DownloadfromS3(bucketName, remoteDirectoryName):\n",
    "    s3_resource = boto3.resource('s3')\n",
    "    bucket = s3_resource.Bucket(bucketName)\n",
    "    for obj in bucket.objects.filter(Prefix = remoteDirectoryName):\n",
    "        if not os.path.exists(os.path.dirname(obj.key)):\n",
    "            os.makedirs(os.path.dirname(obj.key))\n",
    "        bucket.download_file(obj.key, obj.key) # save to same path"
   ]
  },
  {
   "cell_type": "code",
   "execution_count": 27,
   "id": "beneficial-collector",
   "metadata": {},
   "outputs": [],
   "source": [
    "DownloadfromS3(BUCKET_NAME, 'Covid19-dataset/')"
   ]
  },
  {
   "cell_type": "markdown",
   "id": "significant-penny",
   "metadata": {},
   "source": [
    "### Evaluate"
   ]
  },
  {
   "cell_type": "code",
   "execution_count": 464,
   "id": "guided-german",
   "metadata": {},
   "outputs": [],
   "source": [
    "import json\n",
    "\n",
    "file_name_covid = './Covid19-dataset/test/Covid/0100.jpeg'\n",
    "file_name_normal = './Covid19-dataset/test/Normal/0101.jpeg'\n",
    "file_name_pneumonia = './Covid19-dataset/test/Viral Pneumonia/0101.jpeg'\n",
    "\n",
    "with open(file_name_covid, 'rb') as image:\n",
    "    f_covid = image.read()\n",
    "    \n",
    "with open(file_name_normal, 'rb') as image:\n",
    "    f_normal = image.read()\n",
    "    \n",
    "with open(file_name_pneumonia, 'rb') as image:\n",
    "    f_pneumonia = image.read()"
   ]
  },
  {
   "cell_type": "code",
   "execution_count": 465,
   "id": "similar-james",
   "metadata": {},
   "outputs": [],
   "source": [
    "import numpy as np\n",
    "\n",
    "runtime = boto3.Session().client(service_name='runtime.sagemaker')\n",
    "response_covid = runtime.invoke_endpoint(EndpointName=endpoint_name, \n",
    "                                   ContentType='application/x-image', \n",
    "                                   Body=f_covid)\n",
    "\n",
    "response_normal = runtime.invoke_endpoint(EndpointName=endpoint_name, \n",
    "                                   ContentType='application/x-image', \n",
    "                                   Body=f_normal)\n",
    "\n",
    "response_pneumonia = runtime.invoke_endpoint(EndpointName=endpoint_name, \n",
    "                                   ContentType='application/x-image', \n",
    "                                   Body=f_pneumonia)\n",
    "\n",
    "result_covid = response_covid['Body'].read()\n",
    "result_normal = response_normal['Body'].read()\n",
    "result_pneumonia = response_pneumonia['Body'].read()\n",
    "# result will be in json format and convert it to ndarray\n",
    "result_covid = json.loads(result_covid)\n",
    "result_normal = json.loads(result_normal)\n",
    "result_pneumonia = json.loads(result_pneumonia)\n",
    "# the result will output the probabilities for all classes\n",
    "\n",
    "# find the class with maximum probability and print the class index\n",
    "index_covid = np.argmax(result_covid)\n",
    "index_normal = np.argmax(result_normal)\n",
    "index_pneumonia = np.argmax(result_pneumonia)"
   ]
  },
  {
   "cell_type": "code",
   "execution_count": 466,
   "id": "appropriate-pressing",
   "metadata": {},
   "outputs": [
    {
     "name": "stdout",
     "output_type": "stream",
     "text": [
      "[0.999180018901825, 0.0001191550909425132]\n",
      "[0.0001682815345702693, 0.00040817074477672577]\n",
      "[0.0004312075034249574, 0.8659377098083496]\n"
     ]
    }
   ],
   "source": [
    "print(result_covid)\n",
    "print(result_normal)\n",
    "print(result_pneumonia)"
   ]
  },
  {
   "cell_type": "code",
   "execution_count": null,
   "id": "corporate-constitutional",
   "metadata": {},
   "outputs": [],
   "source": []
  },
  {
   "cell_type": "code",
   "execution_count": null,
   "id": "baking-fashion",
   "metadata": {},
   "outputs": [],
   "source": []
  },
  {
   "cell_type": "markdown",
   "id": "occasional-horizontal",
   "metadata": {},
   "source": [
    "### Roadmap - Tune Hyperparameter"
   ]
  },
  {
   "cell_type": "code",
   "execution_count": 416,
   "id": "innovative-mayor",
   "metadata": {},
   "outputs": [
    {
     "ename": "ResourceLimitExceeded",
     "evalue": "An error occurred (ResourceLimitExceeded) when calling the CreateHyperParameterTuningJob operation: The account-level service limit 'ml.p2.xlarge for training job usage' is 1 Instances, with current utilization of 0 Instances and a request delta of 10 Instances. Please contact AWS support to request an increase for this limit.",
     "output_type": "error",
     "traceback": [
      "\u001b[0;31m---------------------------------------------------------------------------\u001b[0m",
      "\u001b[0;31mResourceLimitExceeded\u001b[0m                     Traceback (most recent call last)",
      "\u001b[0;32m<ipython-input-416-9b27cc742b91>\u001b[0m in \u001b[0;36m<module>\u001b[0;34m\u001b[0m\n\u001b[1;32m      9\u001b[0m \u001b[0;34m\u001b[0m\u001b[0m\n\u001b[1;32m     10\u001b[0m \u001b[0;31m# Start hyperparameter tuning job\u001b[0m\u001b[0;34m\u001b[0m\u001b[0;34m\u001b[0m\u001b[0;34m\u001b[0m\u001b[0m\n\u001b[0;32m---> 11\u001b[0;31m \u001b[0mmy_tuner\u001b[0m\u001b[0;34m.\u001b[0m\u001b[0mfit\u001b[0m\u001b[0;34m(\u001b[0m\u001b[0minputs\u001b[0m\u001b[0;34m=\u001b[0m\u001b[0mdata_channels\u001b[0m\u001b[0;34m,\u001b[0m \u001b[0mlogs\u001b[0m\u001b[0;34m=\u001b[0m\u001b[0;32mTrue\u001b[0m\u001b[0;34m)\u001b[0m\u001b[0;34m\u001b[0m\u001b[0;34m\u001b[0m\u001b[0m\n\u001b[0m\u001b[1;32m     12\u001b[0m \u001b[0;34m\u001b[0m\u001b[0m\n\u001b[1;32m     13\u001b[0m \u001b[0;31m# Deploy best model\u001b[0m\u001b[0;34m\u001b[0m\u001b[0;34m\u001b[0m\u001b[0;34m\u001b[0m\u001b[0m\n",
      "\u001b[0;32m~/anaconda3/envs/amazonei_mxnet_p36/lib/python3.6/site-packages/sagemaker/tuner.py\u001b[0m in \u001b[0;36mfit\u001b[0;34m(self, inputs, job_name, include_cls_metadata, estimator_kwargs, wait, **kwargs)\u001b[0m\n\u001b[1;32m    442\u001b[0m         \"\"\"\n\u001b[1;32m    443\u001b[0m         \u001b[0;32mif\u001b[0m \u001b[0mself\u001b[0m\u001b[0;34m.\u001b[0m\u001b[0mestimator\u001b[0m \u001b[0;32mis\u001b[0m \u001b[0;32mnot\u001b[0m \u001b[0;32mNone\u001b[0m\u001b[0;34m:\u001b[0m\u001b[0;34m\u001b[0m\u001b[0;34m\u001b[0m\u001b[0m\n\u001b[0;32m--> 444\u001b[0;31m             \u001b[0mself\u001b[0m\u001b[0;34m.\u001b[0m\u001b[0m_fit_with_estimator\u001b[0m\u001b[0;34m(\u001b[0m\u001b[0minputs\u001b[0m\u001b[0;34m,\u001b[0m \u001b[0mjob_name\u001b[0m\u001b[0;34m,\u001b[0m \u001b[0minclude_cls_metadata\u001b[0m\u001b[0;34m,\u001b[0m \u001b[0;34m**\u001b[0m\u001b[0mkwargs\u001b[0m\u001b[0;34m)\u001b[0m\u001b[0;34m\u001b[0m\u001b[0;34m\u001b[0m\u001b[0m\n\u001b[0m\u001b[1;32m    445\u001b[0m         \u001b[0;32melse\u001b[0m\u001b[0;34m:\u001b[0m\u001b[0;34m\u001b[0m\u001b[0;34m\u001b[0m\u001b[0m\n\u001b[1;32m    446\u001b[0m             \u001b[0mself\u001b[0m\u001b[0;34m.\u001b[0m\u001b[0m_fit_with_estimator_dict\u001b[0m\u001b[0;34m(\u001b[0m\u001b[0minputs\u001b[0m\u001b[0;34m,\u001b[0m \u001b[0mjob_name\u001b[0m\u001b[0;34m,\u001b[0m \u001b[0minclude_cls_metadata\u001b[0m\u001b[0;34m,\u001b[0m \u001b[0mestimator_kwargs\u001b[0m\u001b[0;34m)\u001b[0m\u001b[0;34m\u001b[0m\u001b[0;34m\u001b[0m\u001b[0m\n",
      "\u001b[0;32m~/anaconda3/envs/amazonei_mxnet_p36/lib/python3.6/site-packages/sagemaker/tuner.py\u001b[0m in \u001b[0;36m_fit_with_estimator\u001b[0;34m(self, inputs, job_name, include_cls_metadata, **kwargs)\u001b[0m\n\u001b[1;32m    453\u001b[0m         \u001b[0mself\u001b[0m\u001b[0;34m.\u001b[0m\u001b[0m_prepare_estimator_for_tuning\u001b[0m\u001b[0;34m(\u001b[0m\u001b[0mself\u001b[0m\u001b[0;34m.\u001b[0m\u001b[0mestimator\u001b[0m\u001b[0;34m,\u001b[0m \u001b[0minputs\u001b[0m\u001b[0;34m,\u001b[0m \u001b[0mjob_name\u001b[0m\u001b[0;34m,\u001b[0m \u001b[0;34m**\u001b[0m\u001b[0mkwargs\u001b[0m\u001b[0;34m)\u001b[0m\u001b[0;34m\u001b[0m\u001b[0;34m\u001b[0m\u001b[0m\n\u001b[1;32m    454\u001b[0m         \u001b[0mself\u001b[0m\u001b[0;34m.\u001b[0m\u001b[0m_prepare_for_tuning\u001b[0m\u001b[0;34m(\u001b[0m\u001b[0mjob_name\u001b[0m\u001b[0;34m=\u001b[0m\u001b[0mjob_name\u001b[0m\u001b[0;34m,\u001b[0m \u001b[0minclude_cls_metadata\u001b[0m\u001b[0;34m=\u001b[0m\u001b[0minclude_cls_metadata\u001b[0m\u001b[0;34m)\u001b[0m\u001b[0;34m\u001b[0m\u001b[0;34m\u001b[0m\u001b[0m\n\u001b[0;32m--> 455\u001b[0;31m         \u001b[0mself\u001b[0m\u001b[0;34m.\u001b[0m\u001b[0mlatest_tuning_job\u001b[0m \u001b[0;34m=\u001b[0m \u001b[0m_TuningJob\u001b[0m\u001b[0;34m.\u001b[0m\u001b[0mstart_new\u001b[0m\u001b[0;34m(\u001b[0m\u001b[0mself\u001b[0m\u001b[0;34m,\u001b[0m \u001b[0minputs\u001b[0m\u001b[0;34m)\u001b[0m\u001b[0;34m\u001b[0m\u001b[0;34m\u001b[0m\u001b[0m\n\u001b[0m\u001b[1;32m    456\u001b[0m \u001b[0;34m\u001b[0m\u001b[0m\n\u001b[1;32m    457\u001b[0m     \u001b[0;32mdef\u001b[0m \u001b[0m_fit_with_estimator_dict\u001b[0m\u001b[0;34m(\u001b[0m\u001b[0mself\u001b[0m\u001b[0;34m,\u001b[0m \u001b[0minputs\u001b[0m\u001b[0;34m,\u001b[0m \u001b[0mjob_name\u001b[0m\u001b[0;34m,\u001b[0m \u001b[0minclude_cls_metadata\u001b[0m\u001b[0;34m,\u001b[0m \u001b[0mestimator_kwargs\u001b[0m\u001b[0;34m)\u001b[0m\u001b[0;34m:\u001b[0m\u001b[0;34m\u001b[0m\u001b[0;34m\u001b[0m\u001b[0m\n",
      "\u001b[0;32m~/anaconda3/envs/amazonei_mxnet_p36/lib/python3.6/site-packages/sagemaker/tuner.py\u001b[0m in \u001b[0;36mstart_new\u001b[0;34m(cls, tuner, inputs)\u001b[0m\n\u001b[1;32m   1507\u001b[0m             ]\n\u001b[1;32m   1508\u001b[0m \u001b[0;34m\u001b[0m\u001b[0m\n\u001b[0;32m-> 1509\u001b[0;31m         \u001b[0mtuner\u001b[0m\u001b[0;34m.\u001b[0m\u001b[0msagemaker_session\u001b[0m\u001b[0;34m.\u001b[0m\u001b[0mcreate_tuning_job\u001b[0m\u001b[0;34m(\u001b[0m\u001b[0;34m**\u001b[0m\u001b[0mtuner_args\u001b[0m\u001b[0;34m)\u001b[0m\u001b[0;34m\u001b[0m\u001b[0;34m\u001b[0m\u001b[0m\n\u001b[0m\u001b[1;32m   1510\u001b[0m         \u001b[0;32mreturn\u001b[0m \u001b[0mcls\u001b[0m\u001b[0;34m(\u001b[0m\u001b[0mtuner\u001b[0m\u001b[0;34m.\u001b[0m\u001b[0msagemaker_session\u001b[0m\u001b[0;34m,\u001b[0m \u001b[0mtuner\u001b[0m\u001b[0;34m.\u001b[0m\u001b[0m_current_job_name\u001b[0m\u001b[0;34m)\u001b[0m\u001b[0;34m\u001b[0m\u001b[0;34m\u001b[0m\u001b[0m\n\u001b[1;32m   1511\u001b[0m \u001b[0;34m\u001b[0m\u001b[0m\n",
      "\u001b[0;32m~/anaconda3/envs/amazonei_mxnet_p36/lib/python3.6/site-packages/sagemaker/session.py\u001b[0m in \u001b[0;36mcreate_tuning_job\u001b[0;34m(self, job_name, tuning_config, training_config, training_config_list, warm_start_config, tags)\u001b[0m\n\u001b[1;32m   2027\u001b[0m         \u001b[0mLOGGER\u001b[0m\u001b[0;34m.\u001b[0m\u001b[0minfo\u001b[0m\u001b[0;34m(\u001b[0m\u001b[0;34m\"Creating hyperparameter tuning job with name: %s\"\u001b[0m\u001b[0;34m,\u001b[0m \u001b[0mjob_name\u001b[0m\u001b[0;34m)\u001b[0m\u001b[0;34m\u001b[0m\u001b[0;34m\u001b[0m\u001b[0m\n\u001b[1;32m   2028\u001b[0m         \u001b[0mLOGGER\u001b[0m\u001b[0;34m.\u001b[0m\u001b[0mdebug\u001b[0m\u001b[0;34m(\u001b[0m\u001b[0;34m\"tune request: %s\"\u001b[0m\u001b[0;34m,\u001b[0m \u001b[0mjson\u001b[0m\u001b[0;34m.\u001b[0m\u001b[0mdumps\u001b[0m\u001b[0;34m(\u001b[0m\u001b[0mtune_request\u001b[0m\u001b[0;34m,\u001b[0m \u001b[0mindent\u001b[0m\u001b[0;34m=\u001b[0m\u001b[0;36m4\u001b[0m\u001b[0;34m)\u001b[0m\u001b[0;34m)\u001b[0m\u001b[0;34m\u001b[0m\u001b[0;34m\u001b[0m\u001b[0m\n\u001b[0;32m-> 2029\u001b[0;31m         \u001b[0mself\u001b[0m\u001b[0;34m.\u001b[0m\u001b[0msagemaker_client\u001b[0m\u001b[0;34m.\u001b[0m\u001b[0mcreate_hyper_parameter_tuning_job\u001b[0m\u001b[0;34m(\u001b[0m\u001b[0;34m**\u001b[0m\u001b[0mtune_request\u001b[0m\u001b[0;34m)\u001b[0m\u001b[0;34m\u001b[0m\u001b[0;34m\u001b[0m\u001b[0m\n\u001b[0m\u001b[1;32m   2030\u001b[0m \u001b[0;34m\u001b[0m\u001b[0m\n\u001b[1;32m   2031\u001b[0m     \u001b[0;32mdef\u001b[0m \u001b[0mdescribe_tuning_job\u001b[0m\u001b[0;34m(\u001b[0m\u001b[0mself\u001b[0m\u001b[0;34m,\u001b[0m \u001b[0mjob_name\u001b[0m\u001b[0;34m)\u001b[0m\u001b[0;34m:\u001b[0m\u001b[0;34m\u001b[0m\u001b[0;34m\u001b[0m\u001b[0m\n",
      "\u001b[0;32m~/anaconda3/envs/amazonei_mxnet_p36/lib/python3.6/site-packages/botocore/client.py\u001b[0m in \u001b[0;36m_api_call\u001b[0;34m(self, *args, **kwargs)\u001b[0m\n\u001b[1;32m    355\u001b[0m                     \"%s() only accepts keyword arguments.\" % py_operation_name)\n\u001b[1;32m    356\u001b[0m             \u001b[0;31m# The \"self\" in this scope is referring to the BaseClient.\u001b[0m\u001b[0;34m\u001b[0m\u001b[0;34m\u001b[0m\u001b[0;34m\u001b[0m\u001b[0m\n\u001b[0;32m--> 357\u001b[0;31m             \u001b[0;32mreturn\u001b[0m \u001b[0mself\u001b[0m\u001b[0;34m.\u001b[0m\u001b[0m_make_api_call\u001b[0m\u001b[0;34m(\u001b[0m\u001b[0moperation_name\u001b[0m\u001b[0;34m,\u001b[0m \u001b[0mkwargs\u001b[0m\u001b[0;34m)\u001b[0m\u001b[0;34m\u001b[0m\u001b[0;34m\u001b[0m\u001b[0m\n\u001b[0m\u001b[1;32m    358\u001b[0m \u001b[0;34m\u001b[0m\u001b[0m\n\u001b[1;32m    359\u001b[0m         \u001b[0m_api_call\u001b[0m\u001b[0;34m.\u001b[0m\u001b[0m__name__\u001b[0m \u001b[0;34m=\u001b[0m \u001b[0mstr\u001b[0m\u001b[0;34m(\u001b[0m\u001b[0mpy_operation_name\u001b[0m\u001b[0;34m)\u001b[0m\u001b[0;34m\u001b[0m\u001b[0;34m\u001b[0m\u001b[0m\n",
      "\u001b[0;32m~/anaconda3/envs/amazonei_mxnet_p36/lib/python3.6/site-packages/botocore/client.py\u001b[0m in \u001b[0;36m_make_api_call\u001b[0;34m(self, operation_name, api_params)\u001b[0m\n\u001b[1;32m    674\u001b[0m             \u001b[0merror_code\u001b[0m \u001b[0;34m=\u001b[0m \u001b[0mparsed_response\u001b[0m\u001b[0;34m.\u001b[0m\u001b[0mget\u001b[0m\u001b[0;34m(\u001b[0m\u001b[0;34m\"Error\"\u001b[0m\u001b[0;34m,\u001b[0m \u001b[0;34m{\u001b[0m\u001b[0;34m}\u001b[0m\u001b[0;34m)\u001b[0m\u001b[0;34m.\u001b[0m\u001b[0mget\u001b[0m\u001b[0;34m(\u001b[0m\u001b[0;34m\"Code\"\u001b[0m\u001b[0;34m)\u001b[0m\u001b[0;34m\u001b[0m\u001b[0;34m\u001b[0m\u001b[0m\n\u001b[1;32m    675\u001b[0m             \u001b[0merror_class\u001b[0m \u001b[0;34m=\u001b[0m \u001b[0mself\u001b[0m\u001b[0;34m.\u001b[0m\u001b[0mexceptions\u001b[0m\u001b[0;34m.\u001b[0m\u001b[0mfrom_code\u001b[0m\u001b[0;34m(\u001b[0m\u001b[0merror_code\u001b[0m\u001b[0;34m)\u001b[0m\u001b[0;34m\u001b[0m\u001b[0;34m\u001b[0m\u001b[0m\n\u001b[0;32m--> 676\u001b[0;31m             \u001b[0;32mraise\u001b[0m \u001b[0merror_class\u001b[0m\u001b[0;34m(\u001b[0m\u001b[0mparsed_response\u001b[0m\u001b[0;34m,\u001b[0m \u001b[0moperation_name\u001b[0m\u001b[0;34m)\u001b[0m\u001b[0;34m\u001b[0m\u001b[0;34m\u001b[0m\u001b[0m\n\u001b[0m\u001b[1;32m    677\u001b[0m         \u001b[0;32melse\u001b[0m\u001b[0;34m:\u001b[0m\u001b[0;34m\u001b[0m\u001b[0;34m\u001b[0m\u001b[0m\n\u001b[1;32m    678\u001b[0m             \u001b[0;32mreturn\u001b[0m \u001b[0mparsed_response\u001b[0m\u001b[0;34m\u001b[0m\u001b[0;34m\u001b[0m\u001b[0m\n",
      "\u001b[0;31mResourceLimitExceeded\u001b[0m: An error occurred (ResourceLimitExceeded) when calling the CreateHyperParameterTuningJob operation: The account-level service limit 'ml.p2.xlarge for training job usage' is 1 Instances, with current utilization of 0 Instances and a request delta of 10 Instances. Please contact AWS support to request an increase for this limit."
     ]
    }
   ],
   "source": [
    "from sagemaker.tuner import HyperparameterTuner, ContinuousParameter\n",
    "\n",
    "my_tuner = HyperparameterTuner(estimator=multilabel_ic,  # previously-configured Estimator object\n",
    "                               objective_metric_name='validation-accuracy',\n",
    "                               hyperparameter_ranges={'learning-rate': ContinuousParameter(0.05, 0.06)},\n",
    "                               metric_definitions=[{'Name': 'validation-accuracy', 'Regex': 'validation-accuracy=(\\d\\.\\d+)'}],\n",
    "                               max_jobs=100,\n",
    "                               max_parallel_jobs=10)\n",
    "\n",
    "# Start hyperparameter tuning job\n",
    "my_tuner.fit(inputs=data_channels, logs=True)\n",
    "\n",
    "# Deploy best model\n",
    "my_predictor = my_tuner.deploy(initial_instance_count=1, instance_type='ml.m4.xlarge')"
   ]
  },
  {
   "cell_type": "code",
   "execution_count": null,
   "id": "accomplished-gardening",
   "metadata": {},
   "outputs": [],
   "source": [
    "# Make a prediction against the SageMaker endpoint\n",
    "response = my_predictor.predict(validation_data)"
   ]
  }
 ],
 "metadata": {
  "kernelspec": {
   "display_name": "conda_amazonei_mxnet_p36",
   "language": "python",
   "name": "conda_amazonei_mxnet_p36"
  },
  "language_info": {
   "codemirror_mode": {
    "name": "ipython",
    "version": 3
   },
   "file_extension": ".py",
   "mimetype": "text/x-python",
   "name": "python",
   "nbconvert_exporter": "python",
   "pygments_lexer": "ipython3",
   "version": "3.6.13"
  }
 },
 "nbformat": 4,
 "nbformat_minor": 5
}
